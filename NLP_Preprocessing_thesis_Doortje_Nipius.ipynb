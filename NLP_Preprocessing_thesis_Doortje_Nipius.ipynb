{
 "cells": [
  {
   "cell_type": "markdown",
   "id": "481dbf8c",
   "metadata": {},
   "source": [
    "## Using Natural Language Processing to map gender bias in news articles about terrorism\n",
    "\n",
    "### University of Amsterdam\n",
    "#### MA Thesis New Media and Digital Culture \n",
    "##### Doortje Nipius\n",
    "\n",
    "\n",
    "*The original dataset is property of the Simon Fraser University and is protected, handled and used according to the signed agreement.*"
   ]
  },
  {
   "cell_type": "markdown",
   "id": "28a08fd9",
   "metadata": {},
   "source": [
    "**Data preprocessing**"
   ]
  },
  {
   "cell_type": "code",
   "execution_count": 1,
   "id": "56c0b163",
   "metadata": {},
   "outputs": [],
   "source": [
    "#Import libraries \n",
    "import pandas as pd\n",
    "from nltk.corpus import stopwords\n",
    "import re\n",
    "from nltk.tokenize import word_tokenize\n",
    "from nltk.stem.porter import PorterStemmer"
   ]
  },
  {
   "cell_type": "markdown",
   "id": "9f4897d5",
   "metadata": {},
   "source": [
    "### Dataset part 1"
   ]
  },
  {
   "cell_type": "code",
   "execution_count": 2,
   "id": "e559e121",
   "metadata": {},
   "outputs": [],
   "source": [
    "df_1 = pd.read_csv('GGT_deel1.csv')"
   ]
  },
  {
   "cell_type": "code",
   "execution_count": 3,
   "id": "0af206ca",
   "metadata": {},
   "outputs": [],
   "source": [
    "#Filter some columns\n",
    "df_1_filter = df_1[['body', 'outlet' , 'publishedAt', 'people', 'authorsFemaleCount', 'authorsMaleCount','authorsUnknownCount', 'peopleCount', 'peopleFemaleCount', 'peopleMaleCount',\n",
    "       'peopleUnknownCount','sourcesFemale', 'sourcesFemaleCount', 'sourcesMale',\n",
    "       'sourcesMaleCount', 'sourcesUnknown', 'sourcesUnknownCount' , 'voicesFemale',\n",
    "       'voicesMale']]"
   ]
  },
  {
   "cell_type": "code",
   "execution_count": 4,
   "id": "47cd22ee",
   "metadata": {},
   "outputs": [
    {
     "name": "stderr",
     "output_type": "stream",
     "text": [
      "C:\\Users\\doort\\Anaconda3\\lib\\site-packages\\ipykernel_launcher.py:2: SettingWithCopyWarning: \n",
      "A value is trying to be set on a copy of a slice from a DataFrame.\n",
      "Try using .loc[row_indexer,col_indexer] = value instead\n",
      "\n",
      "See the caveats in the documentation: https://pandas.pydata.org/pandas-docs/stable/user_guide/indexing.html#returning-a-view-versus-a-copy\n",
      "  \n",
      "C:\\Users\\doort\\Anaconda3\\lib\\site-packages\\ipykernel_launcher.py:4: SettingWithCopyWarning: \n",
      "A value is trying to be set on a copy of a slice from a DataFrame.\n",
      "Try using .loc[row_indexer,col_indexer] = value instead\n",
      "\n",
      "See the caveats in the documentation: https://pandas.pydata.org/pandas-docs/stable/user_guide/indexing.html#returning-a-view-versus-a-copy\n",
      "  after removing the cwd from sys.path.\n"
     ]
    }
   ],
   "source": [
    "# Remove punctuation\n",
    "df_1_filter['body_clean'] = df_1_filter['body'].apply(lambda x: re.sub('[!\"#$“%&*”+,-.’/―)(:;<=>?@[\\]^_`{|}~]', '', x))\n",
    "# Convert the titles to lowercase\n",
    "df_1_filter['body_clean'] = df_1_filter['body_clean'].apply(lambda x: x.lower())"
   ]
  },
  {
   "cell_type": "markdown",
   "id": "3ae29c78",
   "metadata": {},
   "source": [
    "The content of the articles is searched for the words terrorism and terrorist using regular expressions. "
   ]
  },
  {
   "cell_type": "code",
   "execution_count": 5,
   "id": "0edb2844",
   "metadata": {},
   "outputs": [],
   "source": [
    "string_list = ['terrorism', 'terrorist']"
   ]
  },
  {
   "cell_type": "code",
   "execution_count": 6,
   "id": "ffb7f5ad",
   "metadata": {},
   "outputs": [],
   "source": [
    "def find_match_count(word: str, pattern: str) -> int:\n",
    "    return len(re.findall(pattern, word.lower()))"
   ]
  },
  {
   "cell_type": "code",
   "execution_count": 7,
   "id": "a0f4d4df",
   "metadata": {},
   "outputs": [
    {
     "name": "stderr",
     "output_type": "stream",
     "text": [
      "C:\\Users\\doort\\Anaconda3\\lib\\site-packages\\ipykernel_launcher.py:2: SettingWithCopyWarning: \n",
      "A value is trying to be set on a copy of a slice from a DataFrame.\n",
      "Try using .loc[row_indexer,col_indexer] = value instead\n",
      "\n",
      "See the caveats in the documentation: https://pandas.pydata.org/pandas-docs/stable/user_guide/indexing.html#returning-a-view-versus-a-copy\n",
      "  \n"
     ]
    }
   ],
   "source": [
    "for col in string_list:\n",
    "    df_1_filter[col] = df_1_filter['body_clean'].apply(find_match_count, pattern=col)"
   ]
  },
  {
   "cell_type": "code",
   "execution_count": 8,
   "id": "39d77c09",
   "metadata": {},
   "outputs": [],
   "source": [
    "#Only keep the rows where either the word terrorism or terrorist occurs once or more.\n",
    "terrorisme1 = df_1_filter[(df_1_filter.terrorism > 1) | (df_1_filter.terrorist >1)]"
   ]
  },
  {
   "cell_type": "markdown",
   "id": "9c9ec45f",
   "metadata": {},
   "source": [
    "### Dataset part 2"
   ]
  },
  {
   "cell_type": "code",
   "execution_count": 9,
   "id": "9f32518d",
   "metadata": {},
   "outputs": [],
   "source": [
    "df_2 = pd.read_csv('GGT_deel2.csv')"
   ]
  },
  {
   "cell_type": "code",
   "execution_count": 10,
   "id": "e785dd66",
   "metadata": {},
   "outputs": [],
   "source": [
    "df_2_filter = df_2[['body', 'outlet' , 'publishedAt', 'people', 'authorsFemaleCount', 'authorsMaleCount','authorsUnknownCount', 'peopleCount', 'peopleFemaleCount', 'peopleMaleCount',\n",
    "       'peopleUnknownCount','sourcesFemale', 'sourcesFemaleCount', 'sourcesMale',\n",
    "       'sourcesMaleCount', 'sourcesUnknown', 'sourcesUnknownCount' , 'voicesFemale',\n",
    "       'voicesMale']]"
   ]
  },
  {
   "cell_type": "code",
   "execution_count": 11,
   "id": "b39dab52",
   "metadata": {},
   "outputs": [
    {
     "name": "stderr",
     "output_type": "stream",
     "text": [
      "C:\\Users\\doort\\Anaconda3\\lib\\site-packages\\ipykernel_launcher.py:2: SettingWithCopyWarning: \n",
      "A value is trying to be set on a copy of a slice from a DataFrame.\n",
      "Try using .loc[row_indexer,col_indexer] = value instead\n",
      "\n",
      "See the caveats in the documentation: https://pandas.pydata.org/pandas-docs/stable/user_guide/indexing.html#returning-a-view-versus-a-copy\n",
      "  \n",
      "C:\\Users\\doort\\Anaconda3\\lib\\site-packages\\ipykernel_launcher.py:4: SettingWithCopyWarning: \n",
      "A value is trying to be set on a copy of a slice from a DataFrame.\n",
      "Try using .loc[row_indexer,col_indexer] = value instead\n",
      "\n",
      "See the caveats in the documentation: https://pandas.pydata.org/pandas-docs/stable/user_guide/indexing.html#returning-a-view-versus-a-copy\n",
      "  after removing the cwd from sys.path.\n"
     ]
    }
   ],
   "source": [
    "# Remove punctuation\n",
    "df_2_filter['body_clean'] = df_2_filter['body'].apply(lambda x: re.sub('[!\"#$“%&*”+,-.’/―)(:;<=>?@[\\]^_`{|}~]', '', x))\n",
    "# Convert the titles to lowercase\n",
    "df_2_filter['body_clean'] = df_2_filter['body_clean'].apply(lambda x: x.lower())"
   ]
  },
  {
   "cell_type": "markdown",
   "id": "8b7f8c4c",
   "metadata": {},
   "source": [
    "The content of the articles is searched for the words terrorism and terrorist using regular expressions. "
   ]
  },
  {
   "cell_type": "code",
   "execution_count": 12,
   "id": "e565a91e",
   "metadata": {},
   "outputs": [],
   "source": [
    "string_list = ['terrorism', 'terrorist']"
   ]
  },
  {
   "cell_type": "code",
   "execution_count": 13,
   "id": "041f92ae",
   "metadata": {},
   "outputs": [],
   "source": [
    "def find_match_count(word: str, pattern: str) -> int:\n",
    "    return len(re.findall(pattern, word.lower()))"
   ]
  },
  {
   "cell_type": "code",
   "execution_count": 14,
   "id": "1600a564",
   "metadata": {},
   "outputs": [
    {
     "name": "stderr",
     "output_type": "stream",
     "text": [
      "C:\\Users\\doort\\Anaconda3\\lib\\site-packages\\ipykernel_launcher.py:2: SettingWithCopyWarning: \n",
      "A value is trying to be set on a copy of a slice from a DataFrame.\n",
      "Try using .loc[row_indexer,col_indexer] = value instead\n",
      "\n",
      "See the caveats in the documentation: https://pandas.pydata.org/pandas-docs/stable/user_guide/indexing.html#returning-a-view-versus-a-copy\n",
      "  \n"
     ]
    }
   ],
   "source": [
    "for col in string_list:\n",
    "    df_2_filter[col] = df_2_filter['body_clean'].apply(find_match_count, pattern=col)"
   ]
  },
  {
   "cell_type": "code",
   "execution_count": 15,
   "id": "aecf9bda",
   "metadata": {},
   "outputs": [],
   "source": [
    "#Only keep the rows where either the word terrorism or terrorist occurs once or more.\n",
    "terrorisme2 = df_2_filter[(df_2_filter.terrorism > 1) | (df_2_filter.terrorist >1)]"
   ]
  },
  {
   "cell_type": "markdown",
   "id": "bfa4d6b1",
   "metadata": {},
   "source": [
    "### Dataset part 3"
   ]
  },
  {
   "cell_type": "code",
   "execution_count": 16,
   "id": "a7177bf9",
   "metadata": {},
   "outputs": [],
   "source": [
    "df_3 = pd.read_csv('GGT_deel3.csv')"
   ]
  },
  {
   "cell_type": "code",
   "execution_count": 17,
   "id": "c0d52ab3",
   "metadata": {},
   "outputs": [],
   "source": [
    "df_3_filter = df_3[['body', 'outlet' , 'publishedAt', 'people', 'authorsFemaleCount', 'authorsMaleCount','authorsUnknownCount', 'peopleCount', 'peopleFemaleCount', 'peopleMaleCount',\n",
    "       'peopleUnknownCount','sourcesFemale', 'sourcesFemaleCount', 'sourcesMale',\n",
    "       'sourcesMaleCount', 'sourcesUnknown', 'sourcesUnknownCount' , 'voicesFemale',\n",
    "       'voicesMale']]"
   ]
  },
  {
   "cell_type": "code",
   "execution_count": 18,
   "id": "b6345e59",
   "metadata": {},
   "outputs": [
    {
     "name": "stderr",
     "output_type": "stream",
     "text": [
      "C:\\Users\\doort\\Anaconda3\\lib\\site-packages\\ipykernel_launcher.py:2: SettingWithCopyWarning: \n",
      "A value is trying to be set on a copy of a slice from a DataFrame.\n",
      "Try using .loc[row_indexer,col_indexer] = value instead\n",
      "\n",
      "See the caveats in the documentation: https://pandas.pydata.org/pandas-docs/stable/user_guide/indexing.html#returning-a-view-versus-a-copy\n",
      "  \n",
      "C:\\Users\\doort\\Anaconda3\\lib\\site-packages\\ipykernel_launcher.py:4: SettingWithCopyWarning: \n",
      "A value is trying to be set on a copy of a slice from a DataFrame.\n",
      "Try using .loc[row_indexer,col_indexer] = value instead\n",
      "\n",
      "See the caveats in the documentation: https://pandas.pydata.org/pandas-docs/stable/user_guide/indexing.html#returning-a-view-versus-a-copy\n",
      "  after removing the cwd from sys.path.\n"
     ]
    }
   ],
   "source": [
    "# Remove punctuation\n",
    "df_3_filter['body_clean'] = df_3_filter['body'].apply(lambda x: re.sub('[!\"#$“%&*”+,-.’/―)(:;<=>?@[\\]^_`{|}~]', '', x))\n",
    "# Convert the titles to lowercase\n",
    "df_3_filter['body_clean'] = df_3_filter['body_clean'].apply(lambda x: x.lower())"
   ]
  },
  {
   "cell_type": "markdown",
   "id": "60fee279",
   "metadata": {},
   "source": [
    "The content of the articles is searched for the words terrorism and terrorist using regular expressions. "
   ]
  },
  {
   "cell_type": "code",
   "execution_count": 19,
   "id": "0e0c28db",
   "metadata": {},
   "outputs": [],
   "source": [
    "string_list = ['terrorism', 'terrorist',]"
   ]
  },
  {
   "cell_type": "code",
   "execution_count": 20,
   "id": "45c621c2",
   "metadata": {},
   "outputs": [],
   "source": [
    "def find_match_count(word: str, pattern: str) -> int:\n",
    "    return len(re.findall(pattern, word.lower()))"
   ]
  },
  {
   "cell_type": "code",
   "execution_count": 21,
   "id": "aec3dcb5",
   "metadata": {},
   "outputs": [
    {
     "name": "stderr",
     "output_type": "stream",
     "text": [
      "C:\\Users\\doort\\Anaconda3\\lib\\site-packages\\ipykernel_launcher.py:2: SettingWithCopyWarning: \n",
      "A value is trying to be set on a copy of a slice from a DataFrame.\n",
      "Try using .loc[row_indexer,col_indexer] = value instead\n",
      "\n",
      "See the caveats in the documentation: https://pandas.pydata.org/pandas-docs/stable/user_guide/indexing.html#returning-a-view-versus-a-copy\n",
      "  \n"
     ]
    }
   ],
   "source": [
    "for col in string_list:\n",
    "    df_3_filter[col] = df_3_filter['body_clean'].apply(find_match_count, pattern=col)"
   ]
  },
  {
   "cell_type": "code",
   "execution_count": 22,
   "id": "8a4b37e9",
   "metadata": {},
   "outputs": [],
   "source": [
    "#Only keep the rows where either the word terrorism or terrorist occurs once or more.\n",
    "terrorisme3 = df_3_filter[(df_3_filter.terrorism > 1) | (df_3_filter.terrorist >1)]"
   ]
  },
  {
   "cell_type": "code",
   "execution_count": 23,
   "id": "b6936e13",
   "metadata": {
    "scrolled": true
   },
   "outputs": [],
   "source": [
    "#Merge the frames together in 1 big frame. \n",
    "frames = [terrorisme1, terrorisme2, terrorisme3]\n",
    "terrorism_complete = pd.concat(frames)"
   ]
  },
  {
   "cell_type": "code",
   "execution_count": 24,
   "id": "137d5771",
   "metadata": {},
   "outputs": [],
   "source": [
    "#Save the merged dataset to a csv file\n",
    "#terrorism_complete.to_csv('terrorism_complete.csv')"
   ]
  }
 ],
 "metadata": {
  "kernelspec": {
   "display_name": "Python 3",
   "language": "python",
   "name": "python3"
  },
  "language_info": {
   "codemirror_mode": {
    "name": "ipython",
    "version": 3
   },
   "file_extension": ".py",
   "mimetype": "text/x-python",
   "name": "python",
   "nbconvert_exporter": "python",
   "pygments_lexer": "ipython3",
   "version": "3.6.5"
  }
 },
 "nbformat": 4,
 "nbformat_minor": 5
}
